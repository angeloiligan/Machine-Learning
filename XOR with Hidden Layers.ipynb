{
 "cells": [
  {
   "cell_type": "code",
   "execution_count": 41,
   "id": "b6b389b2-4f56-48f3-8015-03c7eaab2da7",
   "metadata": {},
   "outputs": [
    {
     "name": "stdout",
     "output_type": "stream",
     "text": [
      "XOR(0, 0) = 0\n",
      "XOR(0, 1) = 1\n",
      "XOR(1, 0) = 1\n",
      "XOR(1, 1) = 0\n"
     ]
    }
   ],
   "source": [
    "import numpy as np\n",
    "\n",
    "whidden = np.array([[20,20], [-20,-20]])  \n",
    "b = np.array([-10, 30, -30]) \n",
    "wout = np.array([20,20])\n",
    "\n",
    "def h1_output(x1, x2):\n",
    "    return whidden[0,0] * x1 + whidden[0,1] * x2 + b[0]\n",
    "\n",
    "def h2_output(x1, x2):\n",
    "    return whidden[1,0] * x1 + whidden[1,1] * x2 + b[1]\n",
    "\n",
    "def XOR_output(h1, h2):\n",
    "    return wout[0] * h1 + wout[1] * h2 + b[2]\n",
    "\n",
    "inputs = [(0, 0), (0, 1), (1, 0), (1, 1)]\n",
    "\n",
    "for x1, x2 in inputs:\n",
    "    h1 = 1 if h1_output(x1, x2) > 0 else 0\n",
    "    h2 = 1 if h2_output(x1, x2) > 0 else 0\n",
    "    xor = 1 if XOR_output(h1, h2) > 0 else 0\n",
    "    print(f\"XOR({x1}, {x2}) = {xor}\")\n"
   ]
  },
  {
   "cell_type": "code",
   "execution_count": 39,
   "id": "ffa76c83-c595-49f1-afdb-3fd978afdca6",
   "metadata": {},
   "outputs": [
    {
     "name": "stdout",
     "output_type": "stream",
     "text": [
      "-20\n"
     ]
    }
   ],
   "source": [
    "import numpy as np\n",
    "\n",
    "W = np.array([[20,20], [-20,-20]])  \n",
    "b = np.array([-10, 30, -30])\n",
    "print(W[1,1])"
   ]
  },
  {
   "cell_type": "code",
   "execution_count": 43,
   "id": "6c5ef3d9-262e-44d4-b132-599768985e6d",
   "metadata": {},
   "outputs": [
    {
     "name": "stdout",
     "output_type": "stream",
     "text": [
      "XOR(0, 0) = 0\n",
      "XOR(0, 1) = 1\n",
      "XOR(1, 0) = 1\n",
      "XOR(1, 1) = 0\n"
     ]
    }
   ],
   "source": [
    "import numpy as np\n",
    "\n",
    "whidden = np.array([[20,20], [-20,-20]])  \n",
    "b = np.array([-10, 30, -30]) \n",
    "wout = np.array([20,20])\n",
    "\n",
    "def hidden(x1, x2):\n",
    "    h1 = whidden[0,0] * x1 + whidden[0,1] * x2 + b[0]\n",
    "    h2 = whidden[1,0] * x1 + whidden[1,1] * x2 + b[1]\n",
    "    return ([h1, h2])\n",
    "\n",
    "def XOR_output(h1, h2):\n",
    "    return wout[0] * h1 + wout[1] * h2 + b[2]\n",
    "\n",
    "inputs = [(0, 0), (0, 1), (1, 0), (1, 1)]\n",
    "\n",
    "for x1, x2 in inputs:\n",
    "    h1 = 1 if hidden(x1, x2)[0] > 0 else 0\n",
    "    h2 = 1 if hidden(x1, x2)[1] > 0 else 0\n",
    "    xor = 1 if XOR_output(h1, h2) > 0 else 0\n",
    "    print(f\"XOR({x1}, {x2}) = {xor}\")\n"
   ]
  },
  {
   "cell_type": "code",
   "execution_count": null,
   "id": "870ccc5b-f246-42d6-9ad1-6a451c903f75",
   "metadata": {},
   "outputs": [],
   "source": []
  }
 ],
 "metadata": {
  "kernelspec": {
   "display_name": "Python 3 (ipykernel)",
   "language": "python",
   "name": "python3"
  },
  "language_info": {
   "codemirror_mode": {
    "name": "ipython",
    "version": 3
   },
   "file_extension": ".py",
   "mimetype": "text/x-python",
   "name": "python",
   "nbconvert_exporter": "python",
   "pygments_lexer": "ipython3",
   "version": "3.12.4"
  }
 },
 "nbformat": 4,
 "nbformat_minor": 5
}
