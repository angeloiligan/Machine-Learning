{
 "cells": [
  {
   "cell_type": "code",
   "execution_count": 1,
   "id": "8ff90ce3-09b8-40a2-a33b-9cdbb92a2e81",
   "metadata": {},
   "outputs": [
    {
     "name": "stdout",
     "output_type": "stream",
     "text": [
      "h1(0, 0) = -10\n",
      "h1(0, 1) = 10\n",
      "h1(1, 0) = 10\n",
      "h1(1, 1) = 30\n",
      "h2(0, 0) = 30\n",
      "h2(0, 1) = 10\n",
      "h2(1, 0) = 10\n",
      "h2(1, 1) = -10\n"
     ]
    }
   ],
   "source": [
    "w1 = 20\n",
    "b1 = -10\n",
    "def h1_output(x1, x2):\n",
    "    sum = w1*x1 + w1*x2 + b1\n",
    "    return (sum)\n",
    "inputs = [(0, 0), (0, 1), (1, 0), (1, 1)]\n",
    "for x1, x2 in inputs:\n",
    "    print(f\"h1({x1}, {x2}) = {h1_output(x1, x2)}\")\n",
    "w2 = -20\n",
    "b2 = 30\n",
    "def h2_output(x1, x2):\n",
    "    sum = w2*x1 + w2*x2 + b2\n",
    "    return (sum)\n",
    "inputs = [(0, 0), (0, 1), (1, 0), (1, 1)]\n",
    "for x1, x2 in inputs:\n",
    "    print(f\"h2({x1}, {x2}) = {h2_output(x1, x2)}\") "
   ]
  },
  {
   "cell_type": "code",
   "execution_count": 3,
   "id": "01ac1e00-0927-44bc-b025-a308a8752d6c",
   "metadata": {},
   "outputs": [
    {
     "name": "stdout",
     "output_type": "stream",
     "text": [
      "XOR_output(0, 1) = -10\n",
      "XOR_output(1, 1) = 10\n",
      "XOR_output(1, 1) = 10\n",
      "XOR_output(1, 0) = -10\n"
     ]
    }
   ],
   "source": [
    "w3 = 20\n",
    "b3 = -30\n",
    "h1 = (0, 1, 1, 1)\n",
    "h2 = (1, 1, 1, 0)\n",
    "def XOR_output(x1, x2):\n",
    "    XOR_output = w3 * h1 + w3 * h2 + b3\n",
    "    return XOR_output\n",
    "inputs = [(0, 1), (1, 1), (1, 1), (1, 0)]\n",
    "for h1, h2 in inputs:\n",
    "        print(f\"XOR_output({h1}, {h2}) = {XOR_output(h1, h2)}\")"
   ]
  },
  {
   "cell_type": "code",
   "execution_count": null,
   "id": "00b27e10-691c-4cd8-a727-07d8e3e8cde6",
   "metadata": {},
   "outputs": [],
   "source": []
  },
  {
   "cell_type": "code",
   "execution_count": null,
   "id": "8dc00f52-2e4b-407b-a4af-d1844144ea57",
   "metadata": {},
   "outputs": [],
   "source": []
  }
 ],
 "metadata": {
  "kernelspec": {
   "display_name": "Python 3 (ipykernel)",
   "language": "python",
   "name": "python3"
  },
  "language_info": {
   "codemirror_mode": {
    "name": "ipython",
    "version": 3
   },
   "file_extension": ".py",
   "mimetype": "text/x-python",
   "name": "python",
   "nbconvert_exporter": "python",
   "pygments_lexer": "ipython3",
   "version": "3.12.4"
  }
 },
 "nbformat": 4,
 "nbformat_minor": 5
}
